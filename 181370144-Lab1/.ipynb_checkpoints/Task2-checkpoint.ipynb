{
 "cells": [
  {
   "cell_type": "markdown",
   "id": "06f6a466",
   "metadata": {},
   "source": [
    "# Tip, Tax and Total\n",
    "Write a program that calculates the total amount of a meal purchased at a restaurant. The program should ask the user to enter the charge for the food, and then calculate the amount of a 18 percent tip and 7 percent sales tax. Display each of these amounts and the total\n"
   ]
  },
  {
   "cell_type": "code",
   "execution_count": 1,
   "id": "b31f6855",
   "metadata": {},
   "outputs": [
    {
     "name": "stdout",
     "output_type": "stream",
     "text": [
      "Enter the charge for the food:1000\n",
      "Charges for the food is : 1000.0\n",
      "Amount of an 18% tip is : 180.0\n",
      "Amount of the 7% sales tax is : 70.0\n",
      "Total amount is : 1250.0\n"
     ]
    }
   ],
   "source": [
    "charge_of_food=input(\"Enter the charge for the food:\")\n",
    "charge_of_food=float(charge_of_food)\n",
    "tip=(18/100)*charge_of_food\n",
    "sales_tax=(7/100)*charge_of_food\n",
    "total=0.0\n",
    "total=charge_of_food+sales_tax+tip\n",
    "print(\"Charges for the food is :\",charge_of_food)\n",
    "print(\"Amount of an 18% tip is :\",tip)\n",
    "print(\"Amount of the 7% sales tax is :\",sales_tax)\n",
    "print(\"Total amount is :\",total)"
   ]
  },
  {
   "cell_type": "code",
   "execution_count": null,
   "id": "e8721d6e",
   "metadata": {},
   "outputs": [],
   "source": []
  }
 ],
 "metadata": {
  "kernelspec": {
   "display_name": "Python 3",
   "language": "python",
   "name": "python3"
  },
  "language_info": {
   "codemirror_mode": {
    "name": "ipython",
    "version": 3
   },
   "file_extension": ".py",
   "mimetype": "text/x-python",
   "name": "python",
   "nbconvert_exporter": "python",
   "pygments_lexer": "ipython3",
   "version": "3.8.8"
  }
 },
 "nbformat": 4,
 "nbformat_minor": 5
}
