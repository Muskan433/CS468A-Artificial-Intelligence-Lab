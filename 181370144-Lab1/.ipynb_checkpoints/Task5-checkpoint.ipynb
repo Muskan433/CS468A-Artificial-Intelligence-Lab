{
 "cells": [
  {
   "cell_type": "markdown",
   "id": "53c693dc",
   "metadata": {},
   "source": [
    "# Stock Transation Program\n",
    "Last month Joe purchased some stock in Acme Software, Inc. Here are the details of the purchase:\n",
    "\n",
    "The number of shares that Joe purchased was 2,000.\n",
    "When Joe purchased the stock, he paid 40.00 Dollar per share.\n",
    "Joe paid his stockbroker a commission that amounted to 3 percent of the amount he paid for the stock.\n",
    "Two weeks later Joe sold the stock. Here are the details of the sale:\n",
    "\n",
    "The number of shares that Joe sold was 2,000.\n",
    "He sold the stock for 42.75 Dollar per share.\n",
    "He paid his stockbroker another commission that amounted to 3 percent of the amount he received for the stock.\n",
    "Write a program that displays the following information:\n",
    "\n",
    "The amount of money Joe paid for the stock.\n",
    "The amount of commission Joe paid his broker when he bought the stock.\n",
    "The amount that Joe sold the stock for.\n",
    "The amount of commission Joe paid his broker when he sold the stock.\n",
    "Display the amount of money that Joe had left when he sold the stock and paid his broker (both times). If this amount is positive, then Joe made a profit. If the amount is negative, then Joe lost money."
   ]
  },
  {
   "cell_type": "code",
   "execution_count": 1,
   "id": "089d52e5",
   "metadata": {},
   "outputs": [
    {
     "name": "stdout",
     "output_type": "stream",
     "text": [
      "Amount of money joe paid for stock: 80000.0\n",
      "Amount of commition joe paid for his broker: 2400.0\n",
      "total amount jeo paid: 82400.0\n",
      "Amount at which jeo sold the stock is: 85500.0\n",
      "Amount of commition joe paid for his broker at sold time is: 2565.0\n",
      "remaining amount after paying the slod commition is: 82935.0\n",
      "Left amount is 535.0\n",
      "Profit\n"
     ]
    }
   ],
   "source": [
    "number_of_shares=2000\n",
    "\n",
    "# he/she paid 40.0 dollar per share so\n",
    "\n",
    "total_amount=number_of_shares*40.0\n",
    "\n",
    "commition_paid=(3/100)*total_amount\n",
    "\n",
    "total_cost_paid=0\n",
    "\n",
    "total_cost_paid=total_amount+commition_paid\n",
    "\n",
    "\n",
    "\n",
    "# sold rate\n",
    "\n",
    "\n",
    "sold_amount=0.0\n",
    "\n",
    "sold_amount=number_of_shares*42.75\n",
    "\n",
    "slod_commition=(3/100)*sold_amount\n",
    "\n",
    "remaining_amount=sold_amount-slod_commition\n",
    "\n",
    "\n",
    "left_money=0.0\n",
    "\n",
    "left_money=remaining_amount-total_cost_paid\n",
    "\n",
    "\n",
    "print(\"Amount of money joe paid for stock:\",total_amount)\n",
    "\n",
    "print(\"Amount of commition joe paid for his broker:\",commition_paid)\n",
    "\n",
    "print(\"total amount jeo paid:\",total_cost_paid)\n",
    "\n",
    "print(\"Amount at which jeo sold the stock is:\",sold_amount)\n",
    "\n",
    "print(\"Amount of commition joe paid for his broker at sold time is:\",slod_commition)\n",
    "\n",
    "print(\"remaining amount after paying the slod commition is:\",remaining_amount)\n",
    "\n",
    "print(\"Left amount is\",left_money)\n",
    "\n",
    "if left_money>0 :\n",
    "    print(\"jeo made a profit\")\n",
    "else :\n",
    "    print(\"Joe lost money\")\n",
    "    "
   ]
  },
  {
   "cell_type": "code",
   "execution_count": null,
   "id": "9c16ca39",
   "metadata": {},
   "outputs": [],
   "source": []
  }
 ],
 "metadata": {
  "kernelspec": {
   "display_name": "Python 3",
   "language": "python",
   "name": "python3"
  },
  "language_info": {
   "codemirror_mode": {
    "name": "ipython",
    "version": 3
   },
   "file_extension": ".py",
   "mimetype": "text/x-python",
   "name": "python",
   "nbconvert_exporter": "python",
   "pygments_lexer": "ipython3",
   "version": "3.8.8"
  }
 },
 "nbformat": 4,
 "nbformat_minor": 5
}
