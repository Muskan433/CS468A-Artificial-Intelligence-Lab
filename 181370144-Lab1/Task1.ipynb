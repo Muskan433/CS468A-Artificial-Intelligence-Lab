{
 "cells": [
  {
   "cell_type": "markdown",
   "id": "e9528545",
   "metadata": {},
   "source": [
    "# Sales Tax\n",
    "Write a program that will ask the user to enter the amount of a purchase. The program should then compute the state and county sales tax. Assume the state sales tax is 5 percent and the county sales tax is 2.5 percent. The program should display the following:\n",
    "\n",
    "The amount of the purchase\n",
    "The state sales tax\n",
    "The county sales tax\n",
    "The total sales tax\n",
    "and the total of the sale (which is the sum of the amount of purchase plus the total sales tax).\n",
    "\n"
   ]
  },
  {
   "cell_type": "code",
   "execution_count": 1,
   "id": "f104c8ff",
   "metadata": {},
   "outputs": [
    {
     "name": "stdout",
     "output_type": "stream",
     "text": [
      "Enter the amount of a purchase:1000\n",
      "Amount of purchase is : 1000.0\n",
      "State sales tax is : 50.0\n",
      "County sales tax is : 25.0\n",
      "Total sales tax is : 75.0\n",
      "Total of the sale is: 1075.0\n"
     ]
    }
   ],
   "source": [
    "amount=input(\"Enter the amount of a purchase:\")\n",
    "amount=float(amount)\n",
    "state_sales_tax=(5/100)*amount\n",
    "county_sales_tax=(2.5/100)*amount\n",
    "total_sales_tax=0.0\n",
    "total_sales_tax=state_sales_tax+county_sales_tax\n",
    "total_of_the_sale=amount+total_sales_tax\n",
    "print(\"Amount of purchase is :\",amount)\n",
    "print(\"State sales tax is :\",state_sales_tax)\n",
    "print(\"County sales tax is :\",county_sales_tax)\n",
    "print(\"Total sales tax is :\",total_sales_tax)\n",
    "print(\"Total of the sale is:\",total_of_the_sale)"
   ]
  },
  {
   "cell_type": "code",
   "execution_count": null,
   "id": "6e2f36ca",
   "metadata": {},
   "outputs": [],
   "source": []
  }
 ],
 "metadata": {
  "kernelspec": {
   "display_name": "Python 3",
   "language": "python",
   "name": "python3"
  },
  "language_info": {
   "codemirror_mode": {
    "name": "ipython",
    "version": 3
   },
   "file_extension": ".py",
   "mimetype": "text/x-python",
   "name": "python",
   "nbconvert_exporter": "python",
   "pygments_lexer": "ipython3",
   "version": "3.8.8"
  }
 },
 "nbformat": 4,
 "nbformat_minor": 5
}
