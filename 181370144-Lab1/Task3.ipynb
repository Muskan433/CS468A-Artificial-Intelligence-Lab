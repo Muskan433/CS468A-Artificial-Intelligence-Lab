{
 "cells": [
  {
   "cell_type": "markdown",
   "id": "9a362c57",
   "metadata": {},
   "source": [
    "# A cookie recipe calls for the following ingredients:\n",
    "\n",
    "1.5 cups of sugar\n",
    "1 cup of butter\n",
    "2.75 cups of flour\n",
    "The recipe produces 48 cookies with this amount of the ingredients. Write a program that asks the user how many cookies he or she wants to make, and then displays the number of cups of each ingredient needed for the specified number of cookies."
   ]
  },
  {
   "cell_type": "code",
   "execution_count": 8,
   "id": "81384571",
   "metadata": {},
   "outputs": [
    {
     "name": "stdout",
     "output_type": "stream",
     "text": [
      "Enter the number of cookies you want to made:48\n",
      "cups of suger for 48 cookies is :1.5\n",
      "cups of butter for 48 cookies is :1.0\n",
      "cups of flour for 48 cookies is :2.75\n"
     ]
    }
   ],
   "source": [
    "cookies=48\n",
    "cups_of_suger=(1.5/cookies)\n",
    "\n",
    "cup_of_butter=(1/cookies)\n",
    "\n",
    "cup_of_flour=(2.75/cookies)\n",
    "\n",
    "\n",
    "number_of_cookies=input(\"Enter the number of cookies you want to made:\")\n",
    "\n",
    "number_of_cookies=int(number_of_cookies)\n",
    "\n",
    "sugerCups=cups_of_suger*number_of_cookies\n",
    "\n",
    "butterCups=cup_of_butter*number_of_cookies\n",
    "\n",
    "flourCups=cup_of_flour*number_of_cookies\n",
    "\n",
    "print(\"cups of suger for \"+str(number_of_cookies)+\" cookies is :\"+str(sugerCups))\n",
    "\n",
    "print(\"cups of butter for \"+str(number_of_cookies)+\" cookies is :\"+str(butterCups))\n",
    "\n",
    "print(\"cups of flour for \"+str(number_of_cookies)+\" cookies is :\"+str(flourCups))"
   ]
  },
  {
   "cell_type": "code",
   "execution_count": null,
   "id": "c0b0eefd",
   "metadata": {},
   "outputs": [],
   "source": []
  }
 ],
 "metadata": {
  "kernelspec": {
   "display_name": "Python 3",
   "language": "python",
   "name": "python3"
  },
  "language_info": {
   "codemirror_mode": {
    "name": "ipython",
    "version": 3
   },
   "file_extension": ".py",
   "mimetype": "text/x-python",
   "name": "python",
   "nbconvert_exporter": "python",
   "pygments_lexer": "ipython3",
   "version": "3.8.8"
  }
 },
 "nbformat": 4,
 "nbformat_minor": 5
}
