{
 "cells": [
  {
   "cell_type": "markdown",
   "id": "2f1a87ae",
   "metadata": {},
   "source": [
    "# Task4\n",
    "Write a program that asks the user for the number of males and the number of females registered in a class. The program should display the percentage of males and females in the class.\n",
    "\n",
    "Hint: Suppose there are 8 males and 12 females in a class. There are 20 students in the class. The percentage of males can be calculated as 8 4 20 5 0.4, or 40%. The percentage of females can be calculated as 12 4 20 5 0.6, or 60%"
   ]
  },
  {
   "cell_type": "code",
   "execution_count": 5,
   "id": "cad90df3",
   "metadata": {},
   "outputs": [
    {
     "name": "stdout",
     "output_type": "stream",
     "text": [
      "Enter the number of males register in the class room:8\n",
      "Enter the number of females register in the class room:12\n",
      "Male percent is: 40\n",
      "female percent is: 60\n"
     ]
    }
   ],
   "source": [
    "number_of_males=input(\"Enter the number of males register in the class room:\")\n",
    "\n",
    "number_of_males=int(number_of_males)\n",
    "\n",
    "\n",
    "number_of_females=input(\"Enter the number of females register in the class room:\")\n",
    "\n",
    "number_of_females=int(number_of_females)\n",
    "\n",
    "\n",
    "total_students=0\n",
    "\n",
    "total_students=number_of_males+number_of_females\n",
    "\n",
    "\n",
    "per_of_males=0\n",
    "\n",
    "per_of_males=int((number_of_males/total_students)*100)\n",
    "\n",
    "\n",
    "per_of_females=0\n",
    "\n",
    "per_of_females=int((number_of_females/total_students)*100)\n",
    "\n",
    "\n",
    "print(\"Male percent is:\",per_of_males)\n",
    "\n",
    "\n",
    "print(\"female percent is:\",per_of_females)\n",
    "\n",
    "\n",
    "\n",
    "\n"
   ]
  },
  {
   "cell_type": "code",
   "execution_count": null,
   "id": "7ec6952e",
   "metadata": {},
   "outputs": [],
   "source": []
  }
 ],
 "metadata": {
  "kernelspec": {
   "display_name": "Python 3",
   "language": "python",
   "name": "python3"
  },
  "language_info": {
   "codemirror_mode": {
    "name": "ipython",
    "version": 3
   },
   "file_extension": ".py",
   "mimetype": "text/x-python",
   "name": "python",
   "nbconvert_exporter": "python",
   "pygments_lexer": "ipython3",
   "version": "3.8.8"
  }
 },
 "nbformat": 4,
 "nbformat_minor": 5
}
