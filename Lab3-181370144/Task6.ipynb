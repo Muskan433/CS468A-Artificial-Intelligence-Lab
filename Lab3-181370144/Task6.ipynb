{
 "cells": [
  {
   "cell_type": "markdown",
   "id": "e0512cfc",
   "metadata": {},
   "source": [
    "# 7.6 Sentence Capitalizer\n",
    "Write a program with a function that accepts a string as an argument and returns a copy of the\n",
    "string with the first character of each sentence capitalized. For instance, if the argument is “hello.\n",
    "my name is Joe. what is your name?” the function should return the string “Hello. My name is\n",
    "Joe. What is your name?” The program should let the user enter a string and then pass it to the\n",
    "function. The modified string should be displayed."
   ]
  },
  {
   "cell_type": "code",
   "execution_count": 1,
   "id": "9b044b61",
   "metadata": {},
   "outputs": [
    {
     "name": "stdout",
     "output_type": "stream",
     "text": [
      "Enter a string: hello. my name is Joe. what is your name?\n",
      "Hello. My name is joe. What is your name?\n"
     ]
    }
   ],
   "source": [
    "def sentence(message):\n",
    "    append_string = []\n",
    "    split_string = message.split('. ')\n",
    "    seperstor=\". \"\n",
    "    #convert to a list\n",
    "    for first in split_string:\n",
    "        final_result = first[0].upper()\n",
    "        final_result += first[1:].lower()\n",
    "        append_string.append(final_result)\n",
    "       \n",
    "    print(seperstor.join(append_string))\n",
    "message = input('Enter a string: ')\n",
    "sentence(message)"
   ]
  },
  {
   "cell_type": "code",
   "execution_count": null,
   "id": "aeaf79bd",
   "metadata": {},
   "outputs": [],
   "source": []
  }
 ],
 "metadata": {
  "kernelspec": {
   "display_name": "Python 3",
   "language": "python",
   "name": "python3"
  },
  "language_info": {
   "codemirror_mode": {
    "name": "ipython",
    "version": 3
   },
   "file_extension": ".py",
   "mimetype": "text/x-python",
   "name": "python",
   "nbconvert_exporter": "python",
   "pygments_lexer": "ipython3",
   "version": "3.8.8"
  }
 },
 "nbformat": 4,
 "nbformat_minor": 5
}
