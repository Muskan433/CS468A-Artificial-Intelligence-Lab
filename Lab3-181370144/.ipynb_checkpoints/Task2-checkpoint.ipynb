{
 "cells": [
  {
   "cell_type": "markdown",
   "id": "1cf60617",
   "metadata": {},
   "source": [
    "# 7.2 Morse Code Converter\n",
    "Morse code is a code where each letter of the English alphabet, each digit, and various punctuation\n",
    "characters are represented by a series of dots and dashes. Table 8-4 shows part of the code. Write\n",
    "a program that asks the user to enter a string, and then converts that string to Morse code."
   ]
  },
  {
   "cell_type": "code",
   "execution_count": 12,
   "id": "42cea918",
   "metadata": {},
   "outputs": [],
   "source": [
    "morsCodeDetector = {',':'--..--','.':'.-.-.-','?':'..--..',\n",
    "                   '0':'-----','1':'.----', '2':'..---', '3':'...--',\n",
    "                    '4':'....-', '5':'.....', '6':'-....','7':'--...',\n",
    "                   '8':'---..', '9':'----.','A':'.-', 'B':'-...',\n",
    "                    'C':'-.-.', 'D':'-..', 'E':'.',\n",
    "                    'F':'..-.', 'G':'--.', 'H':'....',\n",
    "                    'I':'..', 'J':'.---', 'K':'-.-',\n",
    "                    'L':'.-..', 'M':'--', 'N':'-.',\n",
    "                    'O':'---', 'P':'.--.', 'Q':'--.-',\n",
    "                    'R':'.-.', 'S':'...', 'T':'-',\n",
    "                    'U':'..-', 'V':'...-', 'W':'.--',\n",
    "                    'X':'-..-', 'Y':'-.--', 'Z':'--..'}\n",
    "def morseCode(x):\n",
    "    result = \"\"\n",
    "    for alphabet in x:\n",
    "        if alphabet != \" \":\n",
    "  \n",
    "            result += morsCodeDetector[alphabet] + \" \"\n",
    "        else:\n",
    "\n",
    "            result += \" \"\n",
    "  \n",
    "    return result\n",
    "\n",
    "\n",
    "   \n",
    "\n",
    "\n",
    "                   \n",
    "\n"
   ]
  },
  {
   "cell_type": "code",
   "execution_count": 13,
   "id": "6be7c89d",
   "metadata": {},
   "outputs": [
    {
     "name": "stdout",
     "output_type": "stream",
     "text": [
      "Enter a string:Muskan\n",
      "-- ..- ... -.- .- -. \n"
     ]
    }
   ],
   "source": [
    "input_user =input(\"Enter a string:\") \n",
    "ans = morseCode(message.upper())\n",
    "print (ans)"
   ]
  },
  {
   "cell_type": "code",
   "execution_count": null,
   "id": "9ae275c9",
   "metadata": {},
   "outputs": [],
   "source": []
  }
 ],
 "metadata": {
  "kernelspec": {
   "display_name": "Python 3",
   "language": "python",
   "name": "python3"
  },
  "language_info": {
   "codemirror_mode": {
    "name": "ipython",
    "version": 3
   },
   "file_extension": ".py",
   "mimetype": "text/x-python",
   "name": "python",
   "nbconvert_exporter": "python",
   "pygments_lexer": "ipython3",
   "version": "3.8.8"
  }
 },
 "nbformat": 4,
 "nbformat_minor": 5
}
