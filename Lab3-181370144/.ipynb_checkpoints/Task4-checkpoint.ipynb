{
 "cells": [
  {
   "cell_type": "markdown",
   "id": "de7b1244",
   "metadata": {},
   "source": [
    "# 7.4 Alphabetic Telephone Number Translator\n",
    "Many companies use telephone numbers like 555-GET-FOOD so the number is easier for their\n",
    "customers to remember. On a standard telephone, the alphabetic letters are mapped to numbers\n",
    "in the following fashion:\n",
    "\n",
    "Letters Number\n",
    "A, B, and C 2\n",
    "D, E, and F 3\n",
    "G, H, and I 4\n",
    "J, K, and L 5\n",
    "M, N, and O 6\n",
    "P, Q, R, and S 7\n",
    "T, U, and V 8\n",
    "W, X, Y, and Z 9\n",
    "\n",
    "Write a program that asks the user to enter a 10-character telephone number in the format XXX-\n",
    "XXX-XXXX. The application should display the telephone number with any alphabetic characters\n",
    "\n",
    "that appeared in the original translated to their numeric equivalent. For example, if the user enters\n",
    "555-GET-FOOD the application should display 555-438-3663.\n"
   ]
  },
  {
   "cell_type": "code",
   "execution_count": 2,
   "id": "033c16d8",
   "metadata": {},
   "outputs": [
    {
     "name": "stdout",
     "output_type": "stream",
     "text": [
      "Enter the 10 character telephone phone number555-SDH-BNTY\n",
      "10\n",
      "555-734-2689\n"
     ]
    }
   ],
   "source": [
    "def PhNum(PhNumber):\n",
    "    newPhoneNumber = ''\n",
    "    for char in PhNumber:\n",
    "        if char == 'A' or char == 'B' or char == 'C' or char=='a' or char=='b' or char=='c':\n",
    "            char = '2'\n",
    "        elif char == 'D' or char == 'E' or char == 'F' or char=='d' or char=='e' or char=='f':\n",
    "            char = '3'\n",
    "        elif char == 'G' or char == 'H' or char == 'I' or char=='g' or char=='h' or char=='i':\n",
    "            char = '4'\n",
    "        elif char == 'J' or char == 'K' or char == 'L' or char=='j' or char=='k' or char=='l':\n",
    "            char = '5'\n",
    "        elif char == 'M' or char == 'N' or char == 'O'  or char=='m' or char=='n' or char=='o':\n",
    "            char = '6'\n",
    "        elif char == 'P' or char == 'Q' or char == 'R' or char == 'S' or char=='p' or char=='q' or char=='r':\n",
    "            char = '7'\n",
    "        elif char == 'T' or char == 'U' or char == 'V' or char=='t' or char=='u' or char=='v':\n",
    "            char = '8'\n",
    "        elif char == 'W' or char == 'X' or char == 'Y' or char == 'Z' or char=='w' or char=='x' or char=='y' or char=='z':\n",
    "            char = '9'\n",
    "        newPhoneNumber = newPhoneNumber + char\n",
    "    return newPhoneNumber\n",
    "\n",
    "phone=input(\"Enter the 10 character telephone phone number\")\n",
    "count=0\n",
    "bool=False\n",
    "for num in phone:\n",
    "    if num.isalnum():\n",
    "        count=count+1\n",
    "print(count)\n",
    "\n",
    "if count==10:\n",
    "    bool=True\n",
    "else:\n",
    "    bool=False\n",
    "while bool==False:\n",
    "    phone=input(\"Enter again the 10 character telephone phone number\")\n",
    "    count=0\n",
    "   \n",
    "    for num in phone:\n",
    "        if num.isalnum():\n",
    "            count=count+1\n",
    "    print(count)\n",
    "\n",
    "    if count==10:\n",
    "        bool=True\n",
    "    else:\n",
    "        bool=False\n",
    "   \n",
    "       \n",
    "digite=PhNum(phone)\n",
    "print(digite)"
   ]
  },
  {
   "cell_type": "code",
   "execution_count": null,
   "id": "297cc99c",
   "metadata": {},
   "outputs": [],
   "source": []
  }
 ],
 "metadata": {
  "kernelspec": {
   "display_name": "Python 3",
   "language": "python",
   "name": "python3"
  },
  "language_info": {
   "codemirror_mode": {
    "name": "ipython",
    "version": 3
   },
   "file_extension": ".py",
   "mimetype": "text/x-python",
   "name": "python",
   "nbconvert_exporter": "python",
   "pygments_lexer": "ipython3",
   "version": "3.8.8"
  }
 },
 "nbformat": 4,
 "nbformat_minor": 5
}
