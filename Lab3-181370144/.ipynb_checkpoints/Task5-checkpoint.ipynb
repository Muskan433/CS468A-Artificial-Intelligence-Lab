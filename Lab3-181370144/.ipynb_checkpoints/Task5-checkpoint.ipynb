{
 "cells": [
  {
   "cell_type": "markdown",
   "id": "51bc4bf8",
   "metadata": {},
   "source": [
    "# Password Validation\n",
    "Assume that you are writing a program for a local software house. It is a password checker program. Two Python built-in functions you’ll need are ord(character) and chr(asciiNumber). ord(character) takes a character and returns its ascii value. In opposite fashion, chr(asciiValue) takes an ascii value and returns a character mapped on that ascii value. Following is ascii chart.\n",
    "\n",
    "\n",
    "ASCII Code Table\n",
    "Fig:5 ASCII Code Table\n",
    "\n",
    "That particular software house sets the criteria of password as: A password is valid if and only if it has:\n",
    "\n",
    "At least one lower case letter\n",
    "At least one upper case letter\n",
    "At least one special characters from the above given image.\n",
    "At least one digit\n",
    "All other passwords are invalid. Use the functions described above to create this program.Summing up the program requirements:\n",
    "\n",
    "takes input as password from user\n",
    "Apply the described tests\n",
    "And prints whether the password is valid or invalid"
   ]
  },
  {
   "cell_type": "code",
   "execution_count": 3,
   "id": "01770d12",
   "metadata": {},
   "outputs": [
    {
     "name": "stdout",
     "output_type": "stream",
     "text": [
      "Enter your passwordMuskan45@\n",
      "Password Muskan45@ is invalid \n"
     ]
    }
   ],
   "source": [
    "password= input(\"Enter your password\")\n",
    "bool=False\n",
    "count1=0\n",
    "count2=0\n",
    "count3=0\n",
    "count4=0\n",
    "for i in password:\n",
    "    if chr(65)==i or chr(66)==i or chr(67)==i or chr(68)==i or chr(69)==i or chr(70)==i or chr(71)==i or chr(72)==i or chr(73)==i or chr(74)==i or chr(75)==i or chr(76)==i or chr(77)==i or chr(78)==i or chr(79)==i or chr(80)==i or chr(81)==i or chr(82)==i or chr(83)==i or chr(84)==i or chr(85)==i or chr(86)==i or chr(87)==i or chr(88)==i or chr(89)==i or chr(90)==i:\n",
    "        count1 += 1\n",
    "    if chr(97)==i or chr(98)==i or chr(99)==i or chr(100)==i or chr(101)==i or chr(102)==i or chr(103)==i or chr(104)==i or chr(105)==i or chr(106)==i or chr(107)==i or chr(108)==i or chr(109)==i or chr(110)==i or chr(111)==i or chr(112)==i or chr(113)==i or chr(114)==i or chr(115)==i or chr(116)==i or chr(117)==i or chr(118)==i or chr(119)==i or chr(120)==i or chr(121)==i or chr(122)==i:\n",
    "        count2 += 1\n",
    "    if chr(36)==i or chr(64)==i or chr(35)==i:\n",
    "        count3 += 1\n",
    "    if chr(0)==i or chr(1)==i or chr(2)==i or chr(3)==i or chr(4)==i or chr(5)==i or chr(6)==i or chr(7)==i or chr(8)==i or chr(9)==i:\n",
    "        count4 += 1\n",
    "              \n",
    "               \n",
    "\n",
    "if count1>=1 and count2>=1 and count3>=1 and count4>=1:\n",
    "    print(\"Password {} is valid \".format(password))\n",
    "else:\n",
    "    print(\"Password {} is invalid \".format(password))\n",
    "    \n",
    "                \n",
    "    \n",
    "\n"
   ]
  },
  {
   "cell_type": "code",
   "execution_count": null,
   "id": "009f07be",
   "metadata": {},
   "outputs": [],
   "source": []
  }
 ],
 "metadata": {
  "kernelspec": {
   "display_name": "Python 3",
   "language": "python",
   "name": "python3"
  },
  "language_info": {
   "codemirror_mode": {
    "name": "ipython",
    "version": 3
   },
   "file_extension": ".py",
   "mimetype": "text/x-python",
   "name": "python",
   "nbconvert_exporter": "python",
   "pygments_lexer": "ipython3",
   "version": "3.8.8"
  }
 },
 "nbformat": 4,
 "nbformat_minor": 5
}
