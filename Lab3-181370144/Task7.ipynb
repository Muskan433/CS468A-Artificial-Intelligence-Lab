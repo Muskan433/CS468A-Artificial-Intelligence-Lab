{
 "cells": [
  {
   "cell_type": "markdown",
   "id": "aa3e31de",
   "metadata": {},
   "source": [
    "# Pig Latin\n",
    "Write a program that accepts a sentence as input and converts each word to “Pig Latin.” In one version, to convert a word to Pig Latin you remove the first letter and place that letter at the end of the word. Then you append the string “ay” to the word. Here is an example:\n",
    "\n",
    "English: I SLEPT MOST OF THE NIGHT\n",
    "Pig Latin: IAY LEPTSAY OSTMAY FOAY HETAY IGHTNAY"
   ]
  },
  {
   "cell_type": "code",
   "execution_count": 1,
   "id": "d4c96b2b",
   "metadata": {},
   "outputs": [
    {
     "name": "stdout",
     "output_type": "stream",
     "text": [
      "Enter a string : I SLEPT MOST OF THE NIGHT\n",
      "IAY LEPTSAY OSTMAY FOAY HETAY IGHTNAY\n"
     ]
    }
   ],
   "source": [
    "def convert_to_pig_latin(message):\n",
    "    split_string=message.split()\n",
    "    append_string=[]\n",
    "    seperator=\" \"\n",
    "    for string in split_string:\n",
    "        string=string[1:]+string[0]+\"AY\"\n",
    "        append_string.append(string)\n",
    "    return seperator.join(append_string)\n",
    "message=input(\"Enter a string : \" )\n",
    "message=message.upper()\n",
    "result=convert_to_pig_latin(message)\n",
    "print(result)"
   ]
  },
  {
   "cell_type": "code",
   "execution_count": null,
   "id": "29002651",
   "metadata": {},
   "outputs": [],
   "source": []
  }
 ],
 "metadata": {
  "kernelspec": {
   "display_name": "Python 3",
   "language": "python",
   "name": "python3"
  },
  "language_info": {
   "codemirror_mode": {
    "name": "ipython",
    "version": 3
   },
   "file_extension": ".py",
   "mimetype": "text/x-python",
   "name": "python",
   "nbconvert_exporter": "python",
   "pygments_lexer": "ipython3",
   "version": "3.8.8"
  }
 },
 "nbformat": 4,
 "nbformat_minor": 5
}
