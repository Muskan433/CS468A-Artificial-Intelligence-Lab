{
 "cells": [
  {
   "cell_type": "markdown",
   "id": "d3d6644c",
   "metadata": {},
   "source": [
    "# 7.3 Reverse Incremental String Slicing\n",
    "Sometimes, while working with Pythonn strings, we can have a problem in which we need to perform\n",
    "the slice and print of strings in reverse order. This can have application in day-day programming.\n",
    "So in this exercise write a program that reverse the string in incremental order.\n",
    "For Example:\n",
    "Orignal String : GIFT\n",
    "Incremental reverse strings: ['T','TF','TFI','TFIG']"
   ]
  },
  {
   "cell_type": "code",
   "execution_count": 1,
   "id": "3f134883",
   "metadata": {},
   "outputs": [
    {
     "name": "stdout",
     "output_type": "stream",
     "text": [
      "Enter a string : gift\n",
      "The reverced incrimental string is ['t', 'tf', 'tfi', 'tfig'] : \n"
     ]
    }
   ],
   "source": [
    "sting_input=input(\"Enter a string : \")\n",
    "\n",
    "list1 = []\n",
    "character = ''\n",
    "for ch in reversed(sting_input):\n",
    "    character += ch\n",
    "    list1.append(character)\n",
    "\n",
    "print(\"The reverced incrimental string is {} : \" .format(list1))"
   ]
  },
  {
   "cell_type": "code",
   "execution_count": null,
   "id": "d3d1e611",
   "metadata": {},
   "outputs": [],
   "source": []
  }
 ],
 "metadata": {
  "kernelspec": {
   "display_name": "Python 3",
   "language": "python",
   "name": "python3"
  },
  "language_info": {
   "codemirror_mode": {
    "name": "ipython",
    "version": 3
   },
   "file_extension": ".py",
   "mimetype": "text/x-python",
   "name": "python",
   "nbconvert_exporter": "python",
   "pygments_lexer": "ipython3",
   "version": "3.8.8"
  }
 },
 "nbformat": 4,
 "nbformat_minor": 5
}
