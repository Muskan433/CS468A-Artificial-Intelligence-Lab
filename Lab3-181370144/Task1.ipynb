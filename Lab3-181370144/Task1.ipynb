{
 "cells": [
  {
   "cell_type": "markdown",
   "id": "b517764c",
   "metadata": {},
   "source": [
    "# 7.1 Sum of Digits in a String\n",
    "Write a program that asks the user to enter a series of single-digit numbers with nothing separating\n",
    "them. The program should display the sum of all the single digit numbers in the string. For\n",
    "example, if the user enters 2514, the method should return 12, which is the sum of 2, 5, 1, and 4."
   ]
  },
  {
   "cell_type": "code",
   "execution_count": 5,
   "id": "87d3d55b",
   "metadata": {},
   "outputs": [
    {
     "name": "stdout",
     "output_type": "stream",
     "text": [
      "Enter the numbers as a string : 2514\n",
      "The sting of integers id 2514 and its sum is 12:\n"
     ]
    }
   ],
   "source": [
    "string_of_numbers=input(\"Enter the numbers as a string : \")\n",
    "sum_numbers=0\n",
    "for num in string_of_numbers:\n",
    "    sum_numbers += int(num)\n",
    "print(\"The sting of integers id {} and its sum is {}.\".format(string_of_numbers, sum_numbers))"
   ]
  },
  {
   "cell_type": "code",
   "execution_count": null,
   "id": "2c22de49",
   "metadata": {},
   "outputs": [],
   "source": []
  }
 ],
 "metadata": {
  "kernelspec": {
   "display_name": "Python 3",
   "language": "python",
   "name": "python3"
  },
  "language_info": {
   "codemirror_mode": {
    "name": "ipython",
    "version": 3
   },
   "file_extension": ".py",
   "mimetype": "text/x-python",
   "name": "python",
   "nbconvert_exporter": "python",
   "pygments_lexer": "ipython3",
   "version": "3.8.8"
  }
 },
 "nbformat": 4,
 "nbformat_minor": 5
}
