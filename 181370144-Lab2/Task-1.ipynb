{
 "cells": [
  {
   "cell_type": "markdown",
   "id": "410798ae",
   "metadata": {},
   "source": [
    "# 7.1 Mass and Weight\n",
    "Scientists measure an object’s mass in kilograms and its weight in newtons. If you know the amount\n",
    "of mass of an object in kilograms, you can calculate its weight in newtons with the following formula:\n",
    "**\n",
    "weight = mass * 3 9.8\n",
    "** Write a program that asks the user to enter an object’s mass, and then calculates its weight. If\n",
    "the object weighs more than 500 newtons, display a message indicating that it is too heavy. If the\n",
    "object weighs less than 100 newtons, display a message indicating that it is too light.\n",
    "    \n",
    "    "
   ]
  },
  {
   "cell_type": "code",
   "execution_count": 4,
   "id": "d8fa2088",
   "metadata": {},
   "outputs": [
    {
     "name": "stdout",
     "output_type": "stream",
     "text": [
      "Enter an object mass:100\n",
      "398.0 It is too light\n"
     ]
    }
   ],
   "source": [
    "mass=float(input(\"Enter an object mass:\"))\n",
    "weight=mass*3.98\n",
    "if weight>500 :\n",
    "    print(\"{} It is too heavy\".format(weight))\n",
    "else :\n",
    "    print(\"{} It is too light\".format(weight))"
   ]
  },
  {
   "cell_type": "code",
   "execution_count": null,
   "id": "650c67f2",
   "metadata": {},
   "outputs": [],
   "source": []
  }
 ],
 "metadata": {
  "kernelspec": {
   "display_name": "Python 3",
   "language": "python",
   "name": "python3"
  },
  "language_info": {
   "codemirror_mode": {
    "name": "ipython",
    "version": 3
   },
   "file_extension": ".py",
   "mimetype": "text/x-python",
   "name": "python",
   "nbconvert_exporter": "python",
   "pygments_lexer": "ipython3",
   "version": "3.8.8"
  }
 },
 "nbformat": 4,
 "nbformat_minor": 5
}
