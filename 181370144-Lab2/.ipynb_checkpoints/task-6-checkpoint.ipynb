{
 "cells": [
  {
   "cell_type": "markdown",
   "id": "dd8d45b2",
   "metadata": {},
   "source": [
    "# 7.6 Body Mass Index\n",
    "Write a program that calculates and displays a person’s body mass index (BMI). The BMI is often\n",
    "used to determine whether a person is overweight or underweight for his or her height. A person’s\n",
    "BMI is calculated with the following formula:\n",
    "**\n",
    "BMI = weight * 703 / height^2\n",
    "**\n",
    "where weight is measured in pounds and height is measured in inches. The program should ask the\n",
    "user to enter his or her weight and height and then display the user’s BMI. The program should\n",
    "also display a message indicating whether the person has optimal weight, is underweight, or is\n",
    "overweight. A person’s weight is considered to be optimal if his or her BMI is between 18.5 and\n",
    "25. If the BMI is less than 18.5, the person is considered to be underweight. If the BMI value is\n",
    "greater than 25, the person is considered to be overweight."
   ]
  },
  {
   "cell_type": "code",
   "execution_count": 2,
   "id": "7eac5c9b",
   "metadata": {},
   "outputs": [
    {
     "name": "stdout",
     "output_type": "stream",
     "text": [
      "Enter weight in pounds:70\n",
      "Enter height in inches:6\n",
      "You are overweight.\n"
     ]
    }
   ],
   "source": [
    "weight, height, BMI=0,0,0;\n",
    "weight=int(input(\"Enter weight in pounds:\"))\n",
    "height=int(input(\"Enter height in inches:\"))\n",
    "BMI = weight * 703 / (height*height)\n",
    "if BMI <= 18.5 :\n",
    "    print(\"You are under weigh\")\n",
    "elif BMI > 18.5 and BMI <= 25 :\n",
    "    print(\"Your weight is optimal\")\n",
    "else :\n",
    "    print(\"You are over weight.\")"
   ]
  },
  {
   "cell_type": "code",
   "execution_count": null,
   "id": "1e8532d2",
   "metadata": {},
   "outputs": [],
   "source": []
  }
 ],
 "metadata": {
  "kernelspec": {
   "display_name": "Python 3",
   "language": "python",
   "name": "python3"
  },
  "language_info": {
   "codemirror_mode": {
    "name": "ipython",
    "version": 3
   },
   "file_extension": ".py",
   "mimetype": "text/x-python",
   "name": "python",
   "nbconvert_exporter": "python",
   "pygments_lexer": "ipython3",
   "version": "3.8.8"
  }
 },
 "nbformat": 4,
 "nbformat_minor": 5
}
