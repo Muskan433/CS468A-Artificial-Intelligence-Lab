{
 "cells": [
  {
   "cell_type": "markdown",
   "id": "4babd942",
   "metadata": {},
   "source": [
    "# 8.3 Guess the Number\n",
    "Write a script that plays “guess the number.” Choose the number to be guessed by selecting a\n",
    "random integer in the range 1 to 1000. Do not reveal this number to the user. Display the\n",
    "prompt “Guess my number between 1 and 1000 with the fewest guesses:”. The player\n",
    "inputs a first guess. If the guess is incorrect, display “Too high. Try again.” or “Too low. Try\n",
    "again.” as appropriate to help the player “zero in” on the correct answer, then prompt the user\n",
    "for the next guess. When the user enters the correct answer, display “Congratulations. You\n",
    "guessed the number!”, and allow the user to choose whether to play again."
   ]
  },
  {
   "cell_type": "code",
   "execution_count": null,
   "id": "17cbfe0f",
   "metadata": {},
   "outputs": [
    {
     "name": "stdout",
     "output_type": "stream",
     "text": [
      "Hi! What is your name?\n",
      "Muskan\n",
      "So, Muskan, I am thinking of a number between 1 and 1000.\n",
      "Think a guess 200\n",
      "Your guess is too low.\n",
      "Think a guess 500\n",
      "Your guess is too high.\n",
      "Think a guess 590\n",
      "Your guess is too high.\n",
      "Think a guess 469\n",
      "Your guess is too low.\n",
      "Think a guess 478\n",
      "Your guess is too low.\n",
      "Think a guess 509\n",
      "Your guess is too high.\n"
     ]
    }
   ],
   "source": [
    "import random\n",
    "guesse = 0\n",
    "print('Hi! What is your name?')\n",
    "name = input()\n",
    "number = random.randint(1, 1000)\n",
    "print('So, ' + name + ', I am thinking of a number between 1 and 1000.')\n",
    "while guesse < 6:\n",
    "    \n",
    "    \n",
    "    guess = int(input(\"Think a guess \"))\n",
    "    guesse = guesse + 1\n",
    "\n",
    "    if guess < number:\n",
    "\n",
    "        print('Your guess is too low.') \n",
    "\n",
    "    if guess > number:\n",
    "        print('Your guess is too high.')\n",
    "    if guess == number:\n",
    "        break\n",
    "\n",
    "if guess == number:\n",
    "\n",
    "    guesse = str(guesse)\n",
    "    print('Congratulations, ' + nme + '! You guessed my number!' + guesse )\n",
    "\n",
    "if guess != number:\n",
    "    number = str(number)\n",
    "    print('No. The number was ' + number)"
   ]
  },
  {
   "cell_type": "code",
   "execution_count": null,
   "id": "a083fad9",
   "metadata": {},
   "outputs": [],
   "source": []
  }
 ],
 "metadata": {
  "kernelspec": {
   "display_name": "Python 3",
   "language": "python",
   "name": "python3"
  },
  "language_info": {
   "codemirror_mode": {
    "name": "ipython",
    "version": 3
   },
   "file_extension": ".py",
   "mimetype": "text/x-python",
   "name": "python",
   "nbconvert_exporter": "python",
   "pygments_lexer": "ipython3",
   "version": "3.8.8"
  }
 },
 "nbformat": 4,
 "nbformat_minor": 5
}
