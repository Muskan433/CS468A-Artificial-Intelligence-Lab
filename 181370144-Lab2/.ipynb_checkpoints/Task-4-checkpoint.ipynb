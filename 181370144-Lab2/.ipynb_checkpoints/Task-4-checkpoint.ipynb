{
 "cells": [
  {
   "cell_type": "markdown",
   "id": "491902a3",
   "metadata": {},
   "source": [
    "# 7.4 Software Sales\n",
    "A software company sells a package that retails for $99. Quantity discounts are given according to\n",
    "the following table:\n",
    "\n",
    "Quantity Discount\n",
    "\n",
    "10–19        10%\n",
    "\n",
    "20–49        20%\n",
    "\n",
    "50–99        30%\n",
    "\n",
    "100 or more   40%\n",
    "\n",
    "Write a program that asks the user to enter the number of packages purchased. The program\n",
    "should then display the amount of the discount (if any) and the total amount of the purchase after\n",
    "the discount."
   ]
  },
  {
   "cell_type": "code",
   "execution_count": 7,
   "id": "6cd644e4",
   "metadata": {},
   "outputs": [
    {
     "name": "stdout",
     "output_type": "stream",
     "text": [
      "Enter the no of packages purchased: 20\n",
      "Package total: 1980.0\n",
      "Discount percent: 0.2\n",
      "Discount amount: 396.0\n",
      "total: 1584.0\n",
      "\n",
      "\n",
      "\n"
     ]
    }
   ],
   "source": [
    "price_each_package= 99.00\n",
    "\n",
    "num_of_package = float(input(\"Enter the no of packages purchased: \"))\n",
    "\n",
    "message=\"\"\n",
    "if num_of_package < 0:\n",
    "    message = \"Error. no of packages must be greater than 0.\"\n",
    "else:\n",
    "    discount_per = 0\n",
    "\n",
    "    if num_of_package < 10:\n",
    "        discount_per = 0\n",
    "    elif num_of_package >= 10 and num_of_package <= 19:\n",
    "        discount_per = .10 \n",
    "    elif num_of_package >= 20 and num_of_package <= 49:\n",
    "        discount_per = .20 \n",
    "    elif num_of_package>= 50 and num_of_package <= 99:\n",
    "        discount_per = .30\n",
    "    elif num_of_package >= 100:\n",
    "        discount_per = .40\n",
    "    \n",
    "    total = num_of_package * price_each_package\n",
    "    discount_amount = (total) * discount_per\n",
    "    final_total =total - discount_amount\n",
    "    print(\"Package total:\",total)\n",
    "    print(\"Discount percent:\",discount_per)\n",
    "    print(\"Discount amount:\",discount_amount)\n",
    "    print(\"total:\",final_total)\n",
    "    print(\"\\n\" +str(message) + \"\\n\")\n",
    "    \n",
    "\n",
    "\n"
   ]
  },
  {
   "cell_type": "code",
   "execution_count": null,
   "id": "8004f19e",
   "metadata": {},
   "outputs": [],
   "source": []
  }
 ],
 "metadata": {
  "kernelspec": {
   "display_name": "Python 3",
   "language": "python",
   "name": "python3"
  },
  "language_info": {
   "codemirror_mode": {
    "name": "ipython",
    "version": 3
   },
   "file_extension": ".py",
   "mimetype": "text/x-python",
   "name": "python",
   "nbconvert_exporter": "python",
   "pygments_lexer": "ipython3",
   "version": "3.8.8"
  }
 },
 "nbformat": 4,
 "nbformat_minor": 5
}
