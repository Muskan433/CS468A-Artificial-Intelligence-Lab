{
 "cells": [
  {
   "cell_type": "markdown",
   "id": "26e45e43",
   "metadata": {},
   "source": [
    "# 8.4 Population\n",
    "Write a program that predicts the approximate size of a population of organisms. The application\n",
    "should allow the user to enter the starting number of organisms, the average daily population\n",
    "increase (as a percentage), and the number of days the organisms will be left to multiply. For\n",
    "example, assume the user enters the following values:\n",
    "Starting number of organisms: 2\n",
    "Average daily increase: 30%\n",
    "Number of days to multiply: 10\n",
    "The program should display the following table of data:\n",
    "Day Approximate Population\n",
    "1 2\n",
    "2 2.6\n",
    "\n",
    "Day Approximate Population\n",
    "3 3.38\n",
    "4 4.394\n",
    "5 5.7122\n",
    "6 7.42586\n",
    "7 9.653619\n",
    "8 12.5497\n",
    "9 16.31462\n",
    "10 21.209"
   ]
  },
  {
   "cell_type": "code",
   "execution_count": 2,
   "id": "a8dd3180",
   "metadata": {},
   "outputs": [
    {
     "name": "stdout",
     "output_type": "stream",
     "text": [
      "Starting number of organisms: 2\n",
      "Average daily increase [%]: 30\n",
      "Number of days to multiply: 10\n",
      "Day Approximate\tPopulation\n",
      "1 \t 2\n",
      "2 \t 2.6\n",
      "3 \t 3.38\n",
      "4 \t 4.394\n",
      "5 \t 5.7122\n",
      "6 \t 7.42586\n",
      "7 \t 9.653618\n",
      "8 \t 12.5497034\n",
      "9 \t 16.31461442\n",
      "10 \t 21.208998746000002\n"
     ]
    }
   ],
   "source": [
    "start = int(input(\"Starting number of organisms: \"))\n",
    "increase = float(input(\"Average daily increase in %: \")) / 100\n",
    "day = int(input(\"Number of days: \"))\n",
    "first = True\n",
    "print(\"Day Approximate \\t  Population\")\n",
    "for days in range(start, day + 1):\n",
    "    if first:\n",
    "        print(1, '\\t\\t\\t\\t', start)\n",
    "        first = False\n",
    "    totalSum = start * increase\n",
    "    start = start + totalSum\n",
    "    print(days, '\\t\\t\\t\\t', start)"
   ]
  },
  {
   "cell_type": "code",
   "execution_count": null,
   "id": "abbec6dc",
   "metadata": {},
   "outputs": [],
   "source": []
  }
 ],
 "metadata": {
  "kernelspec": {
   "display_name": "Python 3",
   "language": "python",
   "name": "python3"
  },
  "language_info": {
   "codemirror_mode": {
    "name": "ipython",
    "version": 3
   },
   "file_extension": ".py",
   "mimetype": "text/x-python",
   "name": "python",
   "nbconvert_exporter": "python",
   "pygments_lexer": "ipython3",
   "version": "3.8.8"
  }
 },
 "nbformat": 4,
 "nbformat_minor": 5
}
