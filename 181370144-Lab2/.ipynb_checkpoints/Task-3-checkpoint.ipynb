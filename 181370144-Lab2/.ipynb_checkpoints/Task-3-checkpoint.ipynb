{
 "cells": [
  {
   "cell_type": "markdown",
   "id": "6fea8ff0",
   "metadata": {},
   "source": [
    "# 7.3 Miles Per Gallon\n",
    "Drivers are concerned with the mileage obtained by their automobiles. One driver has kept track\n",
    "of several tankfuls of gasoline by recording miles driven and gallons used for each tankful. Develop\n",
    "a sentinel-controlled-repetition script that prompts the user to input the miles driven and gallons\n",
    "used for each tankful. The script should calculate and display the miles per gallon obtained for\n",
    "each tankful. After processing all input information, the script should calculate and display the\n",
    "combined miles per gallon obtained for all tankfuls (that is, total miles driven divided by total\n",
    "gallons used)."
   ]
  },
  {
   "cell_type": "code",
   "execution_count": null,
   "id": "64d0f737",
   "metadata": {},
   "outputs": [],
   "source": []
  },
  {
   "cell_type": "code",
   "execution_count": 7,
   "id": "880aba89",
   "metadata": {},
   "outputs": [
    {
     "name": "stdout",
     "output_type": "stream",
     "text": [
      "Enter the gallons used (-1 to end):12.8\n",
      "Enter the miles driven: 287\n",
      "The miles/gallon for this tank was :  22.421875\n",
      "Enter the gallons used (-1 to end):10.3\n",
      "Enter the miles driven: 200\n",
      "The miles/gallon for this tank was :  19.41747572815534\n",
      "Enter the gallons used (-1 to end):5\n",
      "Enter the miles driven: 120\n",
      "The miles/gallon for this tank was :  24.0\n",
      "Enter the gallons used (-1 to end):-1\n",
      "The overall average was :  21.601423487544483\n"
     ]
    }
   ],
   "source": [
    "miles=0\n",
    "gallons=0.0\n",
    "mpg=0.0\n",
    "total_miles=0\n",
    "total_gallon=0.0\n",
    "total_mpg=0.0\n",
    "\n",
    "\n",
    "gallon=float(input(\"Enter the gallons used (-1 to end):\"))\n",
    "if gallon != -1 :\n",
    "    miles=int(input( \"Enter the miles driven: \"))\n",
    "   \n",
    "while gallon != -1 :\n",
    "    total_miles =   total_miles + miles\n",
    "    total_gallon=total_gallon+gallon\n",
    "    total_mpg= total_miles/total_gallon\n",
    "    mpg=miles/gallon\n",
    "    print(\"The miles/gallon for this tank was : \",mpg)\n",
    "    gallon=float(input(\"Enter the gallons used (-1 to end):\"))\n",
    "    if gallon != -1 :\n",
    "        miles=int(input( \"Enter the miles driven: \"))\n",
    "    \n",
    "print(\"The overall average was : \",total_mpg)"
   ]
  },
  {
   "cell_type": "code",
   "execution_count": null,
   "id": "ba79e340",
   "metadata": {},
   "outputs": [],
   "source": []
  }
 ],
 "metadata": {
  "kernelspec": {
   "display_name": "Python 3",
   "language": "python",
   "name": "python3"
  },
  "language_info": {
   "codemirror_mode": {
    "name": "ipython",
    "version": 3
   },
   "file_extension": ".py",
   "mimetype": "text/x-python",
   "name": "python",
   "nbconvert_exporter": "python",
   "pygments_lexer": "ipython3",
   "version": "3.8.8"
  }
 },
 "nbformat": 4,
 "nbformat_minor": 5
}
