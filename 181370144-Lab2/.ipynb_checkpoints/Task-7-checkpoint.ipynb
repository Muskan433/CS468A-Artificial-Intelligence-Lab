{
 "cells": [
  {
   "cell_type": "markdown",
   "id": "2e58e226",
   "metadata": {},
   "source": [
    "# 8.1 Budget Analysis\n",
    "Write a program that asks the user to enter the amount that he or she has budgeted for a month.\n",
    "A loop should then prompt the user to enter each of his or her expenses for the month and keep\n",
    "a running total. When the loop finishes, the program should display the amount that the user is\n",
    "over or under budget."
   ]
  },
  {
   "cell_type": "code",
   "execution_count": 7,
   "id": "38ed41d4",
   "metadata": {},
   "outputs": [
    {
     "name": "stdout",
     "output_type": "stream",
     "text": [
      "Enter the budget amount of this month : 1000\n",
      "Enter the number of expences : 3\n",
      "Enter the  expence : 1000\n",
      "Enter the  expence : 0\n",
      "Enter the  expence : 0\n"
     ]
    }
   ],
   "source": [
    "amount=0.0\n",
    "expence=0.0\n",
    "total=0.0\n",
    "budget=0.0\n",
    "num_expences=0\n",
    "amount=float(input(\"Enter the budget amount of this month : \"))\n",
    "num_expence=int(input(\"Enter the number of expences : \"))\n",
    "for num in range(num_expence) :\n",
    "    expence=float(input(\"Enter the  expence : \"))\n",
    "    total=total+expence\n",
    "budget=amount-total\n",
    "if total>amount :\n",
    "    print(\"You are over budget : \",budget)\n",
    "elif total<amount :\n",
    "    print(\"You are under budget : \",budget)\n",
    "elif total==amount :\n",
    "    print(\"Your budget is 0 : \",budget)\n",
    "\n"
   ]
  },
  {
   "cell_type": "code",
   "execution_count": null,
   "id": "f4abf50a",
   "metadata": {},
   "outputs": [],
   "source": []
  }
 ],
 "metadata": {
  "kernelspec": {
   "display_name": "Python 3",
   "language": "python",
   "name": "python3"
  },
  "language_info": {
   "codemirror_mode": {
    "name": "ipython",
    "version": 3
   },
   "file_extension": ".py",
   "mimetype": "text/x-python",
   "name": "python",
   "nbconvert_exporter": "python",
   "pygments_lexer": "ipython3",
   "version": "3.8.8"
  }
 },
 "nbformat": 4,
 "nbformat_minor": 5
}
