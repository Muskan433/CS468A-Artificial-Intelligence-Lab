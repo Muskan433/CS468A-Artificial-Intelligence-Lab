{
 "cells": [
  {
   "cell_type": "markdown",
   "id": "4aceee09",
   "metadata": {},
   "source": [
    "# 7.5 Shipping Charges\n",
    "The Fast Freight Shipping Company charges the following rates:\n",
    "\n",
    "Weight of Package Rate per Pound (Dollar)\n",
    "2 pounds or less 1.50\n",
    "Over 2 pounds but not more than 6 pounds 3.00\n",
    "Over 6 pounds but not more than 10 pounds 4.00\n",
    "Over 10 pounds 4.75\n",
    "\n",
    "Write a program that asks the user to enter the weight of a package and then displays the shipping\n",
    "charges."
   ]
  },
  {
   "cell_type": "code",
   "execution_count": 1,
   "id": "e2b2ad85",
   "metadata": {},
   "outputs": [
    {
     "name": "stdout",
     "output_type": "stream",
     "text": [
      "Please enter the weight of the item : 7\n",
      "7.0 pounds will cost you 4.00 per pound.\n",
      "Your total shipping charge would be 28.0\n",
      "Your total shipping charge would be 28.0\n"
     ]
    }
   ],
   "source": [
    "weight=float(input('Please enter the weight of the item : '))\n",
    "\n",
    "if weight <= 2:\n",
    "    \n",
    "    print(weight,\"pounds will cost you 1.50 per pound.\")\n",
    "    r1=1.50\n",
    "    total= r1 * weight\n",
    "    print(\"Your total shipping charge would be \", total)\n",
    "\n",
    "elif weight > 2 and weight <= 6:\n",
    "    print(weight,\"pounds will cost you 3.00 per pound.\")\n",
    "    r2=3.00\n",
    "    total= r2 * weight\n",
    "    print(\"Your total shipping charge would be\", total)\n",
    "\n",
    "elif weight > 6 and weight <= 10:\n",
    "    print(weight,\"pounds will cost you 4.00 per pound.\")\n",
    "    r3=4.00\n",
    "    total= r3 * weight\n",
    "    print(\"Your total shipping charge would be\", total)\n",
    "\n",
    "elif weight > 10:\n",
    "    print(weight,\"pounds will cost you 4.75 per pound.\")\n",
    "    r4=4.75\n",
    "    total= r4 * weight\n",
    "    \n",
    "    \n",
    "print(\"Your total shipping charge would be\", total)"
   ]
  },
  {
   "cell_type": "code",
   "execution_count": null,
   "id": "261f4f3c",
   "metadata": {},
   "outputs": [],
   "source": []
  }
 ],
 "metadata": {
  "kernelspec": {
   "display_name": "Python 3",
   "language": "python",
   "name": "python3"
  },
  "language_info": {
   "codemirror_mode": {
    "name": "ipython",
    "version": 3
   },
   "file_extension": ".py",
   "mimetype": "text/x-python",
   "name": "python",
   "nbconvert_exporter": "python",
   "pygments_lexer": "ipython3",
   "version": "3.8.8"
  }
 },
 "nbformat": 4,
 "nbformat_minor": 5
}
