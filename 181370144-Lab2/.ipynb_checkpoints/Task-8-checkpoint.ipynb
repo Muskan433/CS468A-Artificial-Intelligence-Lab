{
 "cells": [
  {
   "cell_type": "markdown",
   "id": "56831cfe",
   "metadata": {},
   "source": [
    "# 8.2 Average Rainfall\n",
    "Write a program that uses nested loops to collect data and calculate the average rainfall over a\n",
    "period of years. The program should first ask for the number of years. The outer loop will iterate\n",
    "once for each year. The inner loop will iterate twelve times, once for each month. Each iteration\n",
    "of the inner loop will ask the user for the inches of rainfall for that month. After all iterations, the\n",
    "program should display the number of months, the total inches of rainfall, and the average rainfall\n",
    "per month for the entire period."
   ]
  },
  {
   "cell_type": "code",
   "execution_count": 2,
   "id": "00129877",
   "metadata": {},
   "outputs": [
    {
     "name": "stdout",
     "output_type": "stream",
     "text": [
      "Enter number of years: 2\n",
      "You have entered  2  years.\n",
      "Enter the number of inches of rainfall for month 1 of year 1:12\n",
      "Enter the number of inches of rainfall for month 2 of year 1:12\n",
      "Enter the number of inches of rainfall for month 3 of year 1:12\n",
      "Enter the number of inches of rainfall for month 4 of year 1:12\n",
      "Enter the number of inches of rainfall for month 5 of year 1:12\n",
      "Enter the number of inches of rainfall for month 6 of year 1:12\n",
      "Enter the number of inches of rainfall for month 7 of year 1:12\n",
      "Enter the number of inches of rainfall for month 8 of year 1:12\n",
      "Enter the number of inches of rainfall for month 9 of year 1:12\n",
      "Enter the number of inches of rainfall for month 10 of year 1:12\n",
      "Enter the number of inches of rainfall for month 11 of year 1:12\n",
      "Enter the number of inches of rainfall for month 12 of year 1:12\n",
      "Enter the number of inches of rainfall for month 1 of year 2:12\n",
      "Enter the number of inches of rainfall for month 2 of year 2:12\n",
      "Enter the number of inches of rainfall for month 3 of year 2:12\n",
      "Enter the number of inches of rainfall for month 4 of year 2:12\n",
      "Enter the number of inches of rainfall for month 5 of year 2:12\n",
      "Enter the number of inches of rainfall for month 6 of year 2:12\n",
      "Enter the number of inches of rainfall for month 7 of year 2:12\n",
      "Enter the number of inches of rainfall for month 8 of year 2:12\n",
      "Enter the number of inches of rainfall for month 9 of year 2:12\n",
      "Enter the number of inches of rainfall for month 10 of year 2:12\n",
      "Enter the number of inches of rainfall for month 11 of year 2:12\n",
      "Enter the number of inches of rainfall for month 12 of year 2:12\n",
      "The total no of rain fall during these months24 was 288.0\n",
      "The average rainfall per month was 12.0\n"
     ]
    }
   ],
   "source": [
    "\n",
    "num_of_years,total_num_of_months = 0,0;\n",
    "\n",
    "rainfall,total_rainfall,average_rainfall=0.0,0.0,0.0\n",
    "\n",
    "num_years=int(input(\"Enter number of years: \"))\n",
    "print(\"You have entered \",num_years ,\" years.\")\n",
    "for years in range(1,num_years+1):\n",
    "    for months in range(1,13):\n",
    "        rainfall += float(input(\"Enter the number of inches of rainfall for month \"+str(months)+\" of year \"+str(years)+\":\"))\n",
    "    \n",
    "total_months=num_years*12\n",
    "avg_rainfall=rainfall/total_months\n",
    "print(\"The total no of rain fall during these months\" +str(total_months)+\" was \"+str(rainfall))\n",
    "print(\"The average rainfall per month was \"+str(avg_rainfall))\n",
    "\n",
    "\n"
   ]
  },
  {
   "cell_type": "markdown",
   "id": "2f200172",
   "metadata": {},
   "source": []
  }
 ],
 "metadata": {
  "kernelspec": {
   "display_name": "Python 3",
   "language": "python",
   "name": "python3"
  },
  "language_info": {
   "codemirror_mode": {
    "name": "ipython",
    "version": 3
   },
   "file_extension": ".py",
   "mimetype": "text/x-python",
   "name": "python",
   "nbconvert_exporter": "python",
   "pygments_lexer": "ipython3",
   "version": "3.8.8"
  }
 },
 "nbformat": 4,
 "nbformat_minor": 5
}
