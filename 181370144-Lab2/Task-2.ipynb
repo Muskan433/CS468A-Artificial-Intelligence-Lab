{
 "cells": [
  {
   "cell_type": "markdown",
   "id": "10e26775",
   "metadata": {},
   "source": [
    "# 7.2 Hot Dogs Cookout Calculator\n",
    "Assume that hot dogs come in packages of 10, and hot dog buns come in packages of 8. Write a\n",
    "program that calculates the number of packages of hot dogs and the number of packages of hot dog\n",
    "buns needed for a cookout, with the minimum amount of leftovers. The program should ask the\n",
    "user for the number of people attending the cookout and the number of hot dogs each person will\n",
    "be given. The program should display the following details: * The minimum number of packages\n",
    "of hot dogs required * The minimum number of packages of hot dog buns required * The number\n",
    "of hot dogs that will be left over * The number of hot dog buns that will be left over"
   ]
  },
  {
   "cell_type": "code",
   "execution_count": 3,
   "id": "69734c66",
   "metadata": {},
   "outputs": [
    {
     "name": "stdout",
     "output_type": "stream",
     "text": [
      "Enter the number of people:20\n",
      "Enter number of hot dogs: 8\n",
      "Minimum number of packages of hot dogs required :  16\n",
      "Minimum number of packages of hot dog buns required :  20\n",
      "Number of hot dogs left over :  0\n",
      "Number of hot dogs buns left over :  0\n"
     ]
    }
   ],
   "source": [
    "\n",
    "\n",
    "hotdog_package=10\n",
    "buns_package=8\n",
    "num_people=int(input(\"Enter the number of people:\"))\n",
    "hotdogs_each_person = int(input(\"Enter number of hot dogs: \"))\n",
    "total_hotdogs = num_people * hotdogs_each_person\n",
    "hotdog_needed = total_hotdogs // hotdog_package\n",
    "hotdogs_left = total_hotdogs % hotdog_package\n",
    "buns_needed = total_hotdogs //buns_package\n",
    "buns_left = total_hotdogs % buns_package\n",
    "print(\"Minimum number of packages of hot dogs required : \",hotdog_needed)\n",
    "print(\"Minimum number of packages of hot dog buns required : \",buns_needed)\n",
    "print(\"Number of hot dogs left over : \",hotdogs_left)\n",
    "print(\"Number of hot dogs buns left over : \",buns_left)"
   ]
  },
  {
   "cell_type": "code",
   "execution_count": null,
   "id": "784835e8",
   "metadata": {},
   "outputs": [],
   "source": []
  }
 ],
 "metadata": {
  "kernelspec": {
   "display_name": "Python 3",
   "language": "python",
   "name": "python3"
  },
  "language_info": {
   "codemirror_mode": {
    "name": "ipython",
    "version": 3
   },
   "file_extension": ".py",
   "mimetype": "text/x-python",
   "name": "python",
   "nbconvert_exporter": "python",
   "pygments_lexer": "ipython3",
   "version": "3.8.8"
  }
 },
 "nbformat": 4,
 "nbformat_minor": 5
}
